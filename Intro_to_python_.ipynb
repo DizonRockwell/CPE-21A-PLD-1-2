{
  "cells": [
    {
      "cell_type": "markdown",
      "metadata": {
        "id": "view-in-github",
        "colab_type": "text"
      },
      "source": [
        "<a href=\"https://colab.research.google.com/github/DizonRockwell/CPE-21A-PLD-1-2/blob/main/Intro_to_python_.ipynb\" target=\"_parent\"><img src=\"https://colab.research.google.com/assets/colab-badge.svg\" alt=\"Open In Colab\"/></a>"
      ]
    },
    {
      "cell_type": "markdown",
      "metadata": {
        "id": "ty0RkhtMUDWH"
      },
      "source": [
        "#Indentation"
      ]
    },
    {
      "cell_type": "code",
      "execution_count": null,
      "metadata": {
        "colab": {
          "base_uri": "https://localhost:8080/"
        },
        "id": "tT6BuYK-ULXW",
        "outputId": "45dcd017-7222-4dbf-8aa3-40db4d74b5a2"
      },
      "outputs": [
        {
          "name": "stdout",
          "output_type": "stream",
          "text": [
            "5 is greater that 3\n"
          ]
        }
      ],
      "source": [
        "if 5>3:\n",
        "  print (\"5 is greater that 3\")  #This is a comment"
      ]
    },
    {
      "cell_type": "markdown",
      "metadata": {
        "id": "jMafWM53VCAm"
      },
      "source": [
        "Variable Declaration"
      ]
    },
    {
      "cell_type": "code",
      "execution_count": 2,
      "metadata": {
        "colab": {
          "base_uri": "https://localhost:8080/"
        },
        "id": "QEbllQAfVHb1",
        "outputId": "285b8e05-93ce-4607-bb03-e6ad3799092f"
      },
      "outputs": [
        {
          "output_type": "stream",
          "name": "stdout",
          "text": [
            "x is greater than y\n",
            "The value of a is: 1\n",
            "The value of b is: 2\n"
          ]
        }
      ],
      "source": [
        "#variable with a single value\n",
        "x=5\n",
        "y=3\n",
        "if x>y:\n",
        "  print (\"x is greater than y\")\n",
        "else:\n",
        "  print (\"y is greater than x\")\n",
        "\n",
        "\n",
        "#variable with multiple values\n",
        "\n",
        "a,b = 1,2\n",
        "print (\"The value of a is:\",a)\n",
        "print (\"The value of b is:\",b)"
      ]
    },
    {
      "cell_type": "markdown",
      "metadata": {
        "id": "EkNAmLuyWuSX"
      },
      "source": [
        "#Casting and Type() Function\n"
      ]
    },
    {
      "cell_type": "code",
      "execution_count": null,
      "metadata": {
        "colab": {
          "base_uri": "https://localhost:8080/"
        },
        "id": "KuCfMgkJW0-A",
        "outputId": "1b0079e5-98a8-4eb3-dfb3-773821a25c16"
      },
      "outputs": [
        {
          "name": "stdout",
          "output_type": "stream",
          "text": [
            "4\n",
            "4.0\n",
            "<class 'int'>\n",
            "<class 'float'>\n"
          ]
        }
      ],
      "source": [
        "f = int(4)   #integer\n",
        "g=float(4)   #decimal/functional\n",
        "\n",
        "print(f)\n",
        "print(g)\n",
        "\n",
        "print(type(f))\n",
        "print(type(g))\n"
      ]
    },
    {
      "cell_type": "markdown",
      "metadata": {
        "id": "No01C3ikXeKH"
      },
      "source": [
        "#Double qoute or single qoute\n"
      ]
    },
    {
      "cell_type": "code",
      "execution_count": 1,
      "metadata": {
        "colab": {
          "base_uri": "https://localhost:8080/"
        },
        "id": "2SMf_8EAXk05",
        "outputId": "667313fc-9253-4e81-c64d-528e585b2f91"
      },
      "outputs": [
        {
          "output_type": "stream",
          "name": "stdout",
          "text": [
            "Rock\n",
            "Well\n",
            "Dizon\n"
          ]
        }
      ],
      "source": [
        "name = \"Rock\"\n",
        "name1 = 'Well'\n",
        "name2 = 'Dizon'\n",
        "\n",
        "print(name)\n",
        "print(name1)\n",
        "print(name2)"
      ]
    },
    {
      "cell_type": "markdown",
      "metadata": {
        "id": "SJHSCbdgYBdp"
      },
      "source": [
        "#Case Sensitive"
      ]
    },
    {
      "cell_type": "code",
      "execution_count": null,
      "metadata": {
        "colab": {
          "background_save": true,
          "base_uri": "https://localhost:8080/"
        },
        "id": "MKaRgmt4YFwq",
        "outputId": "ce8b589f-ea91-46e0-d539-bfd397694f29"
      },
      "outputs": [
        {
          "name": "stdout",
          "output_type": "stream",
          "text": [
            "Ana\n"
          ]
        }
      ],
      "source": [
        "a = 'Ana'\n",
        "print(a)"
      ]
    }
  ],
  "metadata": {
    "colab": {
      "provenance": [],
      "include_colab_link": true
    },
    "kernelspec": {
      "display_name": "Python 3",
      "name": "python3"
    },
    "language_info": {
      "name": "python"
    }
  },
  "nbformat": 4,
  "nbformat_minor": 0
}
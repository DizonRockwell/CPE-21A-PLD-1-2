{
  "nbformat": 4,
  "nbformat_minor": 0,
  "metadata": {
    "colab": {
      "provenance": [],
      "authorship_tag": "ABX9TyNHCGqYB6CVnLWddwSk9hQn",
      "include_colab_link": true
    },
    "kernelspec": {
      "name": "python3",
      "display_name": "Python 3"
    },
    "language_info": {
      "name": "python"
    }
  },
  "cells": [
    {
      "cell_type": "markdown",
      "metadata": {
        "id": "view-in-github",
        "colab_type": "text"
      },
      "source": [
        "<a href=\"https://colab.research.google.com/github/DizonRockwell/CPE-21A-PLD-1-2/blob/main/PLD_Examples_1_30.ipynb\" target=\"_parent\"><img src=\"https://colab.research.google.com/assets/colab-badge.svg\" alt=\"Open In Colab\"/></a>"
      ]
    },
    {
      "cell_type": "markdown",
      "source": [
        "EXAMPLE NUMBER 1\n"
      ],
      "metadata": {
        "id": "-yciRPQUuZVv"
      }
    },
    {
      "cell_type": "code",
      "execution_count": 56,
      "metadata": {
        "colab": {
          "base_uri": "https://localhost:8080/"
        },
        "id": "PwGgpKrylVVV",
        "outputId": "683bdad4-bb82-49f1-f156-30014ac92854"
      },
      "outputs": [
        {
          "output_type": "stream",
          "name": "stdout",
          "text": [
            "enter your age:0\n",
            "You are NOT qualified to vote!\n"
          ]
        }
      ],
      "source": [
        "age=int(input(\"enter your age:\")) #EXAMPLE 1\n",
        "if age ==18 or age > 18:\n",
        "  print(\"You are QUALIFIED to vote!\")\n",
        "elif age <= 17:\n",
        "  print(\"You are NOT qualified to vote!\")"
      ]
    },
    {
      "cell_type": "markdown",
      "source": [
        "EXAMPLE NUMBER 2"
      ],
      "metadata": {
        "id": "HtbM_p05ud4g"
      }
    },
    {
      "cell_type": "code",
      "source": [
        "x=int(input(\"enter a number:\")) #EXAMLPE 2\n",
        "if x>=0:\n",
        "  print(\"Your number is POSITIVE!\")\n",
        "elif x<0:\n",
        "  print(\"Your number is NEGATIVE!\")"
      ],
      "metadata": {
        "colab": {
          "base_uri": "https://localhost:8080/"
        },
        "id": "a8u7PSCyx7lt",
        "outputId": "e43a590d-ea24-407e-bc4e-bdad385bcad9"
      },
      "execution_count": 59,
      "outputs": [
        {
          "output_type": "stream",
          "name": "stdout",
          "text": [
            "enter a number:0\n",
            "Your number is POSITIVE!\n"
          ]
        }
      ]
    },
    {
      "cell_type": "markdown",
      "source": [
        "EXAMPLE NUMBER 3"
      ],
      "metadata": {
        "id": "mfQziBdcx3y3"
      }
    },
    {
      "cell_type": "code",
      "source": [
        "grade=int(input(\"Enter your grade:\")) #EXAMPLE 3\n",
        "if grade>=75:\n",
        "  print(\"YOU PASSED!\")\n",
        "elif grade==74:\n",
        "  print(\"Remedial\")\n",
        "elif grade<74 and grade>=0:\n",
        "  print(\"you FAILED\")\n",
        "elif grade<0:\n",
        "  print(\"INVALID\")"
      ],
      "metadata": {
        "colab": {
          "base_uri": "https://localhost:8080/"
        },
        "id": "YsIWgM64yw1I",
        "outputId": "e946830d-0d57-4f67-9a76-0c2a725276fb"
      },
      "execution_count": 67,
      "outputs": [
        {
          "output_type": "stream",
          "name": "stdout",
          "text": [
            "Enter your grade:-4\n",
            "INVALID\n"
          ]
        }
      ]
    }
  ]
}
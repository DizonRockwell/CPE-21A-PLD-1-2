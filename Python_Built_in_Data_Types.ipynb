{
  "nbformat": 4,
  "nbformat_minor": 0,
  "metadata": {
    "colab": {
      "provenance": []
    },
    "kernelspec": {
      "name": "python3",
      "display_name": "Python 3"
    },
    "language_info": {
      "name": "python"
    }
  },
  "cells": [
    {
      "cell_type": "code",
      "source": [
        "#variables and data types\n",
        "\n",
        "#numbers\n",
        "varNum = 123\n",
        "pi = 3.14259\n",
        "\n",
        "#String\n",
        "varString = \"Hello World\"\n",
        "varText = 'This is a string'\n",
        "\n",
        "#Lists\n",
        "varList = [\"abs\", 123]\n",
        "\n",
        "#Tuples\n",
        "varTuple = ('abc',123,\"HELLO\")\n",
        "\n",
        "#Dictionaries\n",
        "var=3\n",
        "varDict = {'first':1,'2':'2nd',3:var}\n",
        "varDict = {}\n",
        "varDict ['first']=1\n",
        "varDict['2'] = '2nd'\n",
        "varDict[3] = var"
      ],
      "metadata": {
        "id": "Nk0AU5OSRWAF"
      },
      "execution_count": 1,
      "outputs": []
    },
    {
      "cell_type": "code",
      "source": [
        "#Arithmetic\n",
        " \n",
        "#Addition\n",
        "a = 5 + 3\n",
        "\n",
        "#Subtraction\n",
        "b = 5 - 3\n",
        "\n",
        "#Multiplication\n",
        "c = 5 * 3\n",
        "\n",
        "#Exponent\n",
        "d = 5 ** 3\n",
        "\n",
        "#Division\n",
        "e = 5 / 3\n",
        "f = 5 % 3\n",
        "g = 5 // 3\n",
        "\n",
        "print (a,b,c,d,e,f,g)"
      ],
      "metadata": {
        "colab": {
          "base_uri": "https://localhost:8080/"
        },
        "id": "kKDW1EblTvvD",
        "outputId": "b47bfd19-f1ba-4321-d8ca-062b8edeaea5"
      },
      "execution_count": 2,
      "outputs": [
        {
          "output_type": "stream",
          "name": "stdout",
          "text": [
            "8 2 15 125 1.6666666666666667 2 1\n"
          ]
        }
      ]
    },
    {
      "cell_type": "code",
      "source": [
        "#Conditional Statements\n",
        "\n",
        "#Boolean Conditions\n",
        "x = True\n",
        "\n",
        "if x:\n",
        "  print (\"var x is True\")\n",
        "else:\n",
        "  print (\"var x is False\")\n",
        "\n",
        "#String Conditions \n",
        "x = 'Hello World!'\n",
        "if x=='Hello World!':\n",
        "  print (\"var x is Hello World!\")\n",
        "else:\n",
        "  print(\"var x is not Hello World!\")\n",
        "\n",
        "#Numwrical Condeitions\n",
        "x=10\n",
        "if x == '10':\n",
        "  print (\"var x is a string\")\n",
        "elif x == 10:\n",
        "  print(\"var x is an integer\")\n",
        "else:\n",
        "  print(\"var x is none of the above\")"
      ],
      "metadata": {
        "colab": {
          "base_uri": "https://localhost:8080/"
        },
        "id": "Iwb_2u6QT5Q_",
        "outputId": "dbbb88a9-4def-4853-84e3-09fa1fb7c192"
      },
      "execution_count": 3,
      "outputs": [
        {
          "output_type": "stream",
          "name": "stdout",
          "text": [
            "var x is True\n",
            "var x is Hello World!\n",
            "var x is an integer\n"
          ]
        }
      ]
    },
    {
      "cell_type": "code",
      "source": [
        "#Conditional Statements\n",
        "\n",
        "#Boolean Conditions\n",
        "x = True\n",
        "\n",
        "if x:\n",
        "  print (\"var x is True\")\n",
        "else:\n",
        "  print (\"var x is False\")\n",
        "\n",
        "#String Conditions \n",
        "x = 'Hello World!'\n",
        "if x=='Hello World!':\n",
        "  print (\"var x is Hello World!\")\n",
        "else:\n",
        "  print(\"var x is not Hello World!\")\n",
        "\n",
        "#Numwrical Condeitions\n",
        "x=10\n",
        "if x == '10':\n",
        "  print (\"var x is a string\")\n",
        "elif x == 10:\n",
        "  print(\"var x is an integer\")\n",
        "else:\n",
        "  print(\"var x is none of the above\")"
      ],
      "metadata": {
        "colab": {
          "base_uri": "https://localhost:8080/"
        },
        "id": "9iIOba0gUDRD",
        "outputId": "38a4c75a-e3ca-4531-a8e4-2d52c0979e37"
      },
      "execution_count": 4,
      "outputs": [
        {
          "output_type": "stream",
          "name": "stdout",
          "text": [
            "var x is True\n",
            "var x is Hello World!\n",
            "var x is an integer\n"
          ]
        }
      ]
    },
    {
      "cell_type": "code",
      "source": [
        "#Functions\n",
        "\n",
        "def remainder(n,m):\n",
        "  while True:\n",
        "    if n - m < 0:\n",
        "      return n\n",
        "    else:\n",
        "      n = n - m\n",
        "  \n",
        "remainder(10,4)"
      ],
      "metadata": {
        "colab": {
          "base_uri": "https://localhost:8080/"
        },
        "id": "WeMToTe-UNLL",
        "outputId": "9114e1e6-f9cf-4436-adc0-ca119318354f"
      },
      "execution_count": 5,
      "outputs": [
        {
          "output_type": "execute_result",
          "data": {
            "text/plain": [
              "2"
            ]
          },
          "metadata": {},
          "execution_count": 5
        }
      ]
    },
    {
      "cell_type": "code",
      "source": [
        "#Lists\n",
        "\n",
        "pi = 3.14159\n",
        "varList = [1,2,'A', 'B','Hello!',pi]\n",
        "print(varList[0])\n",
        "\n",
        "print(varList[4])\n",
        "\n",
        "varList.append('World!')\n",
        "print(varList[6])\n",
        "\n",
        "len(varList)\n",
        "\n",
        "print(varList[5])\n",
        "\n",
        "varList.remove(pi)\n",
        "print(varList[5])"
      ],
      "metadata": {
        "colab": {
          "base_uri": "https://localhost:8080/"
        },
        "id": "4AkIGP3qUTyf",
        "outputId": "288f6c8d-dcc1-4497-f4e7-5492791a191c"
      },
      "execution_count": 7,
      "outputs": [
        {
          "output_type": "stream",
          "name": "stdout",
          "text": [
            "1\n",
            "Hello!\n",
            "World!\n",
            "3.14159\n",
            "World!\n"
          ]
        }
      ]
    },
    {
      "cell_type": "code",
      "source": [
        "#Dictionaries\n",
        "\n",
        "var = \"Hello World!\"\n",
        "varDict={'first': 123,2 : 'abc','3': var,4:['lista','listb']}\n",
        "print(varDict['first'])\n",
        "print(varDict[2])\n",
        "print (varDict['3'])\n",
        "print(varDict[4])\n",
        "print(varDict[4][1])\n",
        "len(varDict)"
      ],
      "metadata": {
        "colab": {
          "base_uri": "https://localhost:8080/"
        },
        "id": "Ln3kSDTRUXVS",
        "outputId": "64d4c2d3-0610-457c-8fcc-b80d547c0a7e"
      },
      "execution_count": 6,
      "outputs": [
        {
          "output_type": "stream",
          "name": "stdout",
          "text": [
            "123\n",
            "abc\n",
            "Hello World!\n",
            "['lista', 'listb']\n",
            "listb\n"
          ]
        },
        {
          "output_type": "execute_result",
          "data": {
            "text/plain": [
              "4"
            ]
          },
          "metadata": {},
          "execution_count": 6
        }
      ]
    },
    {
      "cell_type": "code",
      "source": [
        "#List Generators and Comprehension\n",
        "\n",
        "def gen_num_up_to(n):\n",
        "  num = 0\n",
        "  while num < n:\n",
        "    yield num \n",
        "    num +=1 \n",
        "gen_num_up_to(5)\n",
        "\n",
        "varList = gen_num_up_to(5)\n",
        "print([var for var in varList])\n",
        "\n",
        "def gen_num_up_to(n):\n",
        "  num = 0\n",
        "  while num < n:\n",
        "    yield num\n",
        "    num+= 2\n",
        "\n",
        "varList = gen_num_up_to(5)\n",
        "print([var for var in varList])\n",
        "\n",
        "varList = range(0,5,2)\n",
        "print([var for var in varList])"
      ],
      "metadata": {
        "colab": {
          "base_uri": "https://localhost:8080/"
        },
        "id": "OrZ-a-17UlAh",
        "outputId": "a855faa9-b017-4a8e-899b-1260cd0999a1"
      },
      "execution_count": 8,
      "outputs": [
        {
          "output_type": "stream",
          "name": "stdout",
          "text": [
            "[0, 1, 2, 3, 4]\n",
            "[0, 2, 4]\n",
            "[0, 2, 4]\n"
          ]
        }
      ]
    },
    {
      "cell_type": "code",
      "source": [
        "#Slicing\n",
        "\n",
        "varList = [1,2,3,4,5,6,7,8,9,10]\n",
        "print(varList[:5])      #end:\n",
        "\n",
        "print(varList[5:])      #start:\n",
        "\n",
        "print(varList[:-2])      \n",
        "\n",
        "print(varList[-2:])\n",
        "\n",
        "print(varList[2:-2])    #start:end\n",
        "\n",
        "print(varList[2:8:2])  #start:end:step"
      ],
      "metadata": {
        "colab": {
          "base_uri": "https://localhost:8080/"
        },
        "id": "m12Sb7OKUrm4",
        "outputId": "a369b1d2-54fc-4787-a3c2-20e4c55aae99"
      },
      "execution_count": 9,
      "outputs": [
        {
          "output_type": "stream",
          "name": "stdout",
          "text": [
            "[1, 2, 3, 4, 5]\n",
            "[6, 7, 8, 9, 10]\n",
            "[1, 2, 3, 4, 5, 6, 7, 8]\n",
            "[9, 10]\n",
            "[3, 4, 5, 6, 7, 8]\n",
            "[3, 5, 7]\n"
          ]
        }
      ]
    }
  ]
}
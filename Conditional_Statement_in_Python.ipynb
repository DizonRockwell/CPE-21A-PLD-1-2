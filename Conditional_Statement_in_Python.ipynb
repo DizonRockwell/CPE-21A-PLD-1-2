{
  "nbformat": 4,
  "nbformat_minor": 0,
  "metadata": {
    "colab": {
      "provenance": []
    },
    "kernelspec": {
      "name": "python3",
      "display_name": "Python 3"
    },
    "language_info": {
      "name": "python"
    }
  },
  "cells": [
    {
      "cell_type": "code",
      "execution_count": 1,
      "metadata": {
        "colab": {
          "base_uri": "https://localhost:8080/"
        },
        "id": "HAAPccQEV6Jd",
        "outputId": "d623426d-439f-45c7-c51f-ae623d2ce5a4"
      },
      "outputs": [
        {
          "output_type": "stream",
          "name": "stdout",
          "text": [
            "Enter a number:\n",
            "9\n",
            "Not Qualified\n"
          ]
        }
      ],
      "source": [
        " print(\"Enter a number:\")\n",
        "x = int(input())\n",
        "if x>18:\n",
        "  print(\"Qualified\")\n",
        "elif x<18:\n",
        "  print(\"Not Qualified\")"
      ]
    },
    {
      "cell_type": "code",
      "source": [
        "print(\"Enter a number:\")\n",
        "x = int(input())\n",
        "if x>0:\n",
        "  print(\"POSITIVE\")\n",
        "elif x==0:\n",
        "  print(\"ZERO\")\n",
        "else:\n",
        "  print(\"NEGATIVE\")"
      ],
      "metadata": {
        "colab": {
          "base_uri": "https://localhost:8080/"
        },
        "id": "jh9zW3r5cTZY",
        "outputId": "f40727bc-0072-4791-b9e8-468505e3457d"
      },
      "execution_count": 2,
      "outputs": [
        {
          "output_type": "stream",
          "name": "stdout",
          "text": [
            "Enter a number:\n",
            "7\n",
            "POSITIVE\n"
          ]
        }
      ]
    },
    {
      "cell_type": "code",
      "source": [
        "print(\"Enter a number:\")\n",
        "x = int(input())\n",
        "if x<0:\n",
        "  print(\"Not Accepted\")\n",
        "elif x<75:\n",
        "  print(\"Failed\")\n",
        "if x>75:\n",
        "  print(\"Passed\")\n",
        "elif x==75:\n",
        "  print(\"Remedial\")"
      ],
      "metadata": {
        "colab": {
          "base_uri": "https://localhost:8080/"
        },
        "id": "epS4JpTLcfyK",
        "outputId": "b75499bc-b0a3-49a7-a453-43b0be5cf654"
      },
      "execution_count": 3,
      "outputs": [
        {
          "output_type": "stream",
          "name": "stdout",
          "text": [
            "Enter a number:\n",
            "75\n",
            "Remedial\n"
          ]
        }
      ]
    }
  ]
}